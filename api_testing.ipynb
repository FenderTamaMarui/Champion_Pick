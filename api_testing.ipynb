{
 "cells": [
  {
   "cell_type": "markdown",
   "metadata": {},
   "source": [
    "# The goal of this program is to pull data from Riot's API and run some analytics on the players in challenger league, namely: \n",
    "\n",
    "## *Champion picks of every current Challenger player (including their climb games) **from season start***"
   ]
  },
  {
   "cell_type": "code",
   "execution_count": 1,
   "metadata": {},
   "outputs": [],
   "source": [
    "import pandas as pd\n",
    "import os\n",
    "import cassiopeia as cass\n",
    "import requests\n",
    "import random\n",
    "from ratelimit import limits\n",
    "import json\n",
    "import datetime\n",
    "pwd = os.getcwd()\n",
    "pd.options.display.max_rows = 10\n",
    "cass.set_riot_api_key(\"REDACTED\")\n",
    "\n",
    "key = 'REDACTED'"
   ]
  },
  {
   "cell_type": "markdown",
   "metadata": {},
   "source": [
    "### Creating a list of all players currently in Challenger League, and their puuids\n",
    " "
   ]
  },
  {
   "cell_type": "code",
   "execution_count": null,
   "metadata": {},
   "outputs": [],
   "source": [
    "challenger_league = cass.get_challenger_league(queue=cass.Queue.ranked_solo_fives, region=\"NA\")\n",
    "\n",
    "summoner_name = []\n",
    "\n",
    "for item in challenger_league:\n",
    "    summoner_name.append(item.summoner.name)\n",
    "\n",
    "summoner_name\n"
   ]
  },
  {
   "cell_type": "code",
   "execution_count": null,
   "metadata": {},
   "outputs": [],
   "source": [
    "summoner_puuid = []  \n",
    "\n",
    "for item in summoner_name:\n",
    "    bucket = cass.Summoner(name=item, region='NA')\n",
    "    summoner_puuid.append(bucket.puuid)\n",
    "    \n",
    "summoner_puuid\n"
   ]
  },
  {
   "cell_type": "markdown",
   "metadata": {},
   "source": [
    "## Now that I have a list of summoner names and puuids, I can pull match histories, and create useful lists that will be used later"
   ]
  },
  {
   "cell_type": "code",
   "execution_count": null,
   "metadata": {},
   "outputs": [],
   "source": [
    "total_match_list = []\n",
    "\n",
    "for item in summoner_name:\n",
    "    bucket = cass.Summoner(name=item, region='NA')\n",
    "    challenger_history = (cass.get_match_history(region=cass.data.Region.north_america,\n",
    "                                             queue=cass.data.Queue.ranked_solo_fives, puuid=bucket.puuid,\n",
    "                                             continent=cass.data.Continent.americas))\n",
    "    total_match_list.append(challenger_history)\n",
    "\n",
    "\n",
    "total_match_list"
   ]
  },
  {
   "cell_type": "code",
   "execution_count": null,
   "metadata": {},
   "outputs": [],
   "source": [
    "\n",
    "champion_picks = []\n",
    "data = []\n",
    "matches = []\n",
    "\n",
    "for position, match_list in enumerate(total_match_list):\n",
    "    bucket = cass.Summoner(name=summoner_name[position], region='NA')\n",
    "    for match in match_list:\n",
    "        champion = match.participants[bucket].champion.name\n",
    "        champion_picks.append(champion)\n",
    "        matches.append(match)\n",
    "        tup = (bucket.name, champion, match)\n",
    "        data.append(tup)\n",
    "\n",
    "champion_picks\n",
    "data        \n",
    "matches\n",
    "\n",
    "        \n"
   ]
  },
  {
   "cell_type": "code",
   "execution_count": null,
   "metadata": {},
   "outputs": [],
   "source": [
    "data.sort\n",
    "\n",
    "data"
   ]
  },
  {
   "cell_type": "code",
   "execution_count": 7,
   "metadata": {},
   "outputs": [
    {
     "data": {
      "text/html": [
       "<div>\n",
       "<style scoped>\n",
       "    .dataframe tbody tr th:only-of-type {\n",
       "        vertical-align: middle;\n",
       "    }\n",
       "\n",
       "    .dataframe tbody tr th {\n",
       "        vertical-align: top;\n",
       "    }\n",
       "\n",
       "    .dataframe thead th {\n",
       "        text-align: right;\n",
       "    }\n",
       "</style>\n",
       "<table border=\"1\" class=\"dataframe\">\n",
       "  <thead>\n",
       "    <tr style=\"text-align: right;\">\n",
       "      <th></th>\n",
       "      <th>Summoner</th>\n",
       "      <th>Champion</th>\n",
       "      <th>Match</th>\n",
       "    </tr>\n",
       "  </thead>\n",
       "  <tbody>\n",
       "    <tr>\n",
       "      <th>0</th>\n",
       "      <td>Pinwinasio</td>\n",
       "      <td>Gwen</td>\n",
       "      <td>Match(id=4223625026, region='AMERICAS')</td>\n",
       "    </tr>\n",
       "    <tr>\n",
       "      <th>1</th>\n",
       "      <td>Pinwinasio</td>\n",
       "      <td>Gwen</td>\n",
       "      <td>Match(id=4223534316, region='AMERICAS')</td>\n",
       "    </tr>\n",
       "    <tr>\n",
       "      <th>2</th>\n",
       "      <td>Pinwinasio</td>\n",
       "      <td>Gwen</td>\n",
       "      <td>Match(id=4216116358, region='AMERICAS')</td>\n",
       "    </tr>\n",
       "    <tr>\n",
       "      <th>3</th>\n",
       "      <td>Pinwinasio</td>\n",
       "      <td>Gwen</td>\n",
       "      <td>Match(id=4216078229, region='AMERICAS')</td>\n",
       "    </tr>\n",
       "    <tr>\n",
       "      <th>4</th>\n",
       "      <td>Pinwinasio</td>\n",
       "      <td>Gwen</td>\n",
       "      <td>Match(id=4216063867, region='AMERICAS')</td>\n",
       "    </tr>\n",
       "    <tr>\n",
       "      <th>...</th>\n",
       "      <td>...</td>\n",
       "      <td>...</td>\n",
       "      <td>...</td>\n",
       "    </tr>\n",
       "    <tr>\n",
       "      <th>5995</th>\n",
       "      <td>Aiden Yasuo</td>\n",
       "      <td>Yasuo</td>\n",
       "      <td>Match(id=4215339247, region='AMERICAS')</td>\n",
       "    </tr>\n",
       "    <tr>\n",
       "      <th>5996</th>\n",
       "      <td>Aiden Yasuo</td>\n",
       "      <td>Yasuo</td>\n",
       "      <td>Match(id=4215149080, region='AMERICAS')</td>\n",
       "    </tr>\n",
       "    <tr>\n",
       "      <th>5997</th>\n",
       "      <td>Aiden Yasuo</td>\n",
       "      <td>Yasuo</td>\n",
       "      <td>Match(id=4215126245, region='AMERICAS')</td>\n",
       "    </tr>\n",
       "    <tr>\n",
       "      <th>5998</th>\n",
       "      <td>Aiden Yasuo</td>\n",
       "      <td>Orianna</td>\n",
       "      <td>Match(id=4215160687, region='AMERICAS')</td>\n",
       "    </tr>\n",
       "    <tr>\n",
       "      <th>5999</th>\n",
       "      <td>Aiden Yasuo</td>\n",
       "      <td>Yasuo</td>\n",
       "      <td>Match(id=4215115382, region='AMERICAS')</td>\n",
       "    </tr>\n",
       "  </tbody>\n",
       "</table>\n",
       "<p>6000 rows × 3 columns</p>\n",
       "</div>"
      ],
      "text/plain": [
       "         Summoner Champion                                    Match\n",
       "0      Pinwinasio     Gwen  Match(id=4223625026, region='AMERICAS')\n",
       "1      Pinwinasio     Gwen  Match(id=4223534316, region='AMERICAS')\n",
       "2      Pinwinasio     Gwen  Match(id=4216116358, region='AMERICAS')\n",
       "3      Pinwinasio     Gwen  Match(id=4216078229, region='AMERICAS')\n",
       "4      Pinwinasio     Gwen  Match(id=4216063867, region='AMERICAS')\n",
       "...           ...      ...                                      ...\n",
       "5995  Aiden Yasuo    Yasuo  Match(id=4215339247, region='AMERICAS')\n",
       "5996  Aiden Yasuo    Yasuo  Match(id=4215149080, region='AMERICAS')\n",
       "5997  Aiden Yasuo    Yasuo  Match(id=4215126245, region='AMERICAS')\n",
       "5998  Aiden Yasuo  Orianna  Match(id=4215160687, region='AMERICAS')\n",
       "5999  Aiden Yasuo    Yasuo  Match(id=4215115382, region='AMERICAS')\n",
       "\n",
       "[6000 rows x 3 columns]"
      ]
     },
     "execution_count": 7,
     "metadata": {},
     "output_type": "execute_result"
    }
   ],
   "source": [
    "dataframe = pd.DataFrame(data, columns= ['Summoner', 'Champion', 'Match'])\n",
    "\n",
    "dataframe"
   ]
  },
  {
   "cell_type": "markdown",
   "metadata": {},
   "source": [
    "## I have pulled matchlists, sorted them by summoner, and stored them into a data frame\n",
    "\n",
    "### Now I can find which champions have the most picks, and test the things like:\n",
    "\n",
    "#### \"Most one trick\", \"Least one trick\", \"Highest Pick Rate for Climb\", \"Lowest Pick Rate for Climb\" etc..."
   ]
  },
  {
   "cell_type": "code",
   "execution_count": 8,
   "metadata": {},
   "outputs": [
    {
     "data": {
      "text/plain": [
       "2955"
      ]
     },
     "execution_count": 8,
     "metadata": {},
     "output_type": "execute_result"
    }
   ],
   "source": [
    "dataframe\n",
    "\n",
    "dataframe_modified = dataframe.copy()\n",
    "\n",
    "matches_set = set(matches)\n",
    "\n",
    "match_count = len(matches_set)\n",
    "\n",
    "match_count\n"
   ]
  },
  {
   "cell_type": "code",
   "execution_count": 9,
   "metadata": {},
   "outputs": [
    {
     "data": {
      "text/html": [
       "<div>\n",
       "<style scoped>\n",
       "    .dataframe tbody tr th:only-of-type {\n",
       "        vertical-align: middle;\n",
       "    }\n",
       "\n",
       "    .dataframe tbody tr th {\n",
       "        vertical-align: top;\n",
       "    }\n",
       "\n",
       "    .dataframe thead th {\n",
       "        text-align: right;\n",
       "    }\n",
       "</style>\n",
       "<table border=\"1\" class=\"dataframe\">\n",
       "  <thead>\n",
       "    <tr style=\"text-align: right;\">\n",
       "      <th></th>\n",
       "      <th>Summoner</th>\n",
       "      <th>Champion</th>\n",
       "      <th>Match</th>\n",
       "    </tr>\n",
       "  </thead>\n",
       "  <tbody>\n",
       "    <tr>\n",
       "      <th>count</th>\n",
       "      <td>6000</td>\n",
       "      <td>6000</td>\n",
       "      <td>6000</td>\n",
       "    </tr>\n",
       "    <tr>\n",
       "      <th>unique</th>\n",
       "      <td>300</td>\n",
       "      <td>156</td>\n",
       "      <td>2955</td>\n",
       "    </tr>\n",
       "    <tr>\n",
       "      <th>top</th>\n",
       "      <td>Pinwinasio</td>\n",
       "      <td>Jinx</td>\n",
       "      <td>Match(id=4225982391, region='AMERICAS')</td>\n",
       "    </tr>\n",
       "    <tr>\n",
       "      <th>freq</th>\n",
       "      <td>20</td>\n",
       "      <td>198</td>\n",
       "      <td>10</td>\n",
       "    </tr>\n",
       "  </tbody>\n",
       "</table>\n",
       "</div>"
      ],
      "text/plain": [
       "          Summoner Champion                                    Match\n",
       "count         6000     6000                                     6000\n",
       "unique         300      156                                     2955\n",
       "top     Pinwinasio     Jinx  Match(id=4225982391, region='AMERICAS')\n",
       "freq            20      198                                       10"
      ]
     },
     "execution_count": 9,
     "metadata": {},
     "output_type": "execute_result"
    }
   ],
   "source": [
    "dataframe_modified.describe()"
   ]
  },
  {
   "cell_type": "markdown",
   "metadata": {},
   "source": [
    "# Most Picked Champions"
   ]
  },
  {
   "cell_type": "code",
   "execution_count": 10,
   "metadata": {},
   "outputs": [],
   "source": [
    "from collections import Counter"
   ]
  },
  {
   "cell_type": "code",
   "execution_count": 11,
   "metadata": {},
   "outputs": [
    {
     "name": "stdout",
     "output_type": "stream",
     "text": [
      "Jinx: picked in 6.7005076142131985% of games\n",
      "\n",
      "Graves: picked in 5.0761421319796955% of games\n",
      "\n",
      "Ahri: picked in 5.042301184433164% of games\n",
      "\n",
      "Zeri: picked in 4.636209813874789% of games\n",
      "\n",
      "Aphelios: picked in 4.060913705583756% of games\n",
      "\n",
      "Viego: picked in 4.0270727580372245% of games\n",
      "\n",
      "Soraka: picked in 4.0270727580372245% of games\n",
      "\n",
      "Jhin: picked in 3.9593908629441623% of games\n",
      "\n",
      "Gwen: picked in 3.925549915397631% of games\n",
      "\n",
      "Lee Sin: picked in 3.7563451776649748% of games\n",
      "\n"
     ]
    }
   ],
   "source": [
    "champ_pick_num = Counter(elem[1] for elem in data)\n",
    "\n",
    "sorted_10  = sorted(champ_pick_num, key=champ_pick_num.get, reverse=True)[:10]\n",
    "\n",
    "sorted_10\n",
    "\n",
    "for item in sorted_10:\n",
    "    print(item + \": picked in \" + str(100*((champ_pick_num[item]/(match_count))))  +\"% of games\\n\")"
   ]
  },
  {
   "cell_type": "markdown",
   "metadata": {},
   "source": [
    "# Least Picked Champions \n",
    "##### *With at least one pick*"
   ]
  },
  {
   "cell_type": "code",
   "execution_count": 12,
   "metadata": {},
   "outputs": [
    {
     "name": "stdout",
     "output_type": "stream",
     "text": [
      "Anivia: picked in 0.0338409475465313% of games\n",
      "\n",
      "Warwick: picked in 0.0338409475465313% of games\n",
      "\n",
      "Annie: picked in 0.0338409475465313% of games\n",
      "\n",
      "Skarner: picked in 0.0338409475465313% of games\n",
      "\n",
      "Nasus: picked in 0.0338409475465313% of games\n",
      "\n",
      "Rammus: picked in 0.0338409475465313% of games\n",
      "\n",
      "Singed: picked in 0.0338409475465313% of games\n",
      "\n",
      "Kled: picked in 0.0338409475465313% of games\n",
      "\n",
      "Master Yi: picked in 0.0338409475465313% of games\n",
      "\n",
      "Elise: picked in 0.0676818950930626% of games\n",
      "\n"
     ]
    }
   ],
   "source": [
    "sorted_10_bottom  = sorted(champ_pick_num, key=champ_pick_num.get, reverse=False)[:10]\n",
    "\n",
    "sorted_10_bottom\n",
    "\n",
    "for item in sorted_10_bottom:\n",
    "    print(item + \": picked in \" + str(100*((champ_pick_num[item]/(match_count))))  +\"% of games\\n\")"
   ]
  },
  {
   "cell_type": "markdown",
   "metadata": {},
   "source": [
    "# Champions Not Picked at All"
   ]
  },
  {
   "cell_type": "code",
   "execution_count": 13,
   "metadata": {},
   "outputs": [
    {
     "name": "stdout",
     "output_type": "stream",
     "text": [
      "These Champions were picked in 0 games:\n",
      "\n",
      "Sivir\n",
      "\n",
      "Taric\n",
      "\n",
      "Yorick\n"
     ]
    }
   ],
   "source": [
    "picked_champs = sorted(champ_pick_num, key=champ_pick_num.get, reverse=False)\n",
    "\n",
    "full_champ_list = []\n",
    "\n",
    "list = cass.get_champions(region='NA')\n",
    "\n",
    "for item in list:\n",
    "    full_champ_list.append(item.name)\n",
    "\n",
    "champions_not_picked = set(full_champ_list).difference(set(picked_champs))\n",
    "\n",
    "\n",
    "print(\"These Champions were picked in 0 games:\") \n",
    "for item in champions_not_picked:\n",
    "    print('\\n' + item)"
   ]
  },
  {
   "cell_type": "markdown",
   "metadata": {},
   "source": [
    "# Most one-trick player"
   ]
  },
  {
   "cell_type": "code",
   "execution_count": null,
   "metadata": {},
   "outputs": [],
   "source": [
    "picks_aggregated_to_summoner = {}\n",
    "\n",
    "for name in summoner_name:\n",
    "    history_list = []\n",
    "    for tuple in data:\n",
    "        if name == tuple[0]:\n",
    "            history_list.append(tuple[1])\n",
    "    picks_aggregated_to_summoner.update({(int(summoner_name.index(str(name)))):history_list})\n",
    "\n",
    "\n",
    "picks_aggregated_to_summoner"
   ]
  },
  {
   "cell_type": "code",
   "execution_count": null,
   "metadata": {},
   "outputs": [
    {
     "data": {
      "text/plain": [
       "[('Sakura Dinger', 'Heimerdinger', 100),\n",
       " ('Nikkone', 'Fiddlesticks', 100),\n",
       " ('Løgán', 'Sion', 100),\n",
       " ('QuinnAD Daddy', 'Quinn', 100),\n",
       " ('twtv CitricLoL', 'Shyvana', 100),\n",
       " ('Mojo Jojo', 'Wukong', 100),\n",
       " ('MaIthaeI', 'Fiddlesticks', 100),\n",
       " ('KingArtLeywin', 'Riven', 100)]"
      ]
     },
     "execution_count": 57,
     "metadata": {},
     "output_type": "execute_result"
    }
   ],
   "source": [
    "\n",
    "\n",
    "import statistics \n",
    "\n",
    "mode_tup_list = []\n",
    "modes = []\n",
    "most_one_trick = []\n",
    "\n",
    "\n",
    "for key, list in picks_aggregated_to_summoner.items():\n",
    "    mode_champion = statistics.mode(list)\n",
    "    mode_value = list.count(mode_champion)\n",
    "    pick_percentage = (mode_value / len(list)) * 100\n",
    "    mode_tup_list.append((summoner_name[key], mode_champion, mode_value, pick_percentage))\n",
    "    modes.append(int(round(pick_percentage)))\n",
    "\n",
    "\n",
    "\n",
    "largest_one_trick_value = max(modes)\n",
    "\n",
    "for i, mode, in enumerate(modes):\n",
    "    if mode == largest_one_trick_value:\n",
    "        location = i\n",
    "        most_one_trick.append((summoner_name[location], mode_tup_list[location][1], largest_one_trick_value))\n",
    "\n",
    "most_one_trick\n",
    "\n",
    "\n",
    "\n"
   ]
  },
  {
   "cell_type": "markdown",
   "metadata": {},
   "source": [
    "# Least one-trick player\n",
    "\n"
   ]
  },
  {
   "cell_type": "code",
   "execution_count": null,
   "metadata": {},
   "outputs": [
    {
     "data": {
      "text/plain": [
       "[('Competition9', 'Viktor', 10),\n",
       " ('From Iron', 'Seraphine', 10),\n",
       " ('Peruvian GAAP', 'Viktor', 10),\n",
       " ('NøticeMeSenpai', 'Sylas', 10),\n",
       " ('yticanet001', 'Aatrox', 10)]"
      ]
     },
     "execution_count": 58,
     "metadata": {},
     "output_type": "execute_result"
    }
   ],
   "source": [
    "least_one_trick = []\n",
    "\n",
    "smallest_one_trick_value = min(modes)\n",
    "\n",
    "for i, mode, in enumerate(modes):\n",
    "    if mode == smallest_one_trick_value:\n",
    "        location = i\n",
    "        least_one_trick.append((summoner_name[location], mode_tup_list[location][1], smallest_one_trick_value))\n",
    "\n",
    "least_one_trick"
   ]
  },
  {
   "cell_type": "markdown",
   "metadata": {},
   "source": [
    "# Least Games Played\n"
   ]
  },
  {
   "cell_type": "code",
   "execution_count": null,
   "metadata": {},
   "outputs": [],
   "source": [
    "games_played = []\n",
    "\n",
    "for key, list in picks_aggregated_to_summoner.items():\n",
    "    games_played.append(len(list))\n",
    "\n",
    "\n",
    "min_games_played = min(games_played)\n",
    "least_games_played = []\n",
    "\n",
    "for i, game in enumerate(games_played):\n",
    "    location = i\n",
    "    if game == min_games_played:\n",
    "        least_games_played.append((summoner_name[location], game))\n",
    "        \n",
    "\n",
    "least_games_played\n",
    "\n",
    "    \n"
   ]
  },
  {
   "cell_type": "markdown",
   "metadata": {},
   "source": [
    "# Most Games Played\n"
   ]
  },
  {
   "cell_type": "code",
   "execution_count": null,
   "metadata": {},
   "outputs": [],
   "source": [
    "max_games_played = min(games_played)\n",
    "most_games_played = []\n",
    "\n",
    "for i, game in enumerate(games_played):\n",
    "    location = i\n",
    "    if game == max_games_played:\n",
    "        most_games_played.append((summoner_name[location], game))\n",
    "        \n",
    "\n",
    "most_games_played"
   ]
  }
 ],
 "metadata": {
  "interpreter": {
   "hash": "e1d159cb68591e48b67255eb41f9bda52bbf3bbfb0350e464e82f881b338c8a1"
  },
  "kernelspec": {
   "display_name": "Python 3.9.5 64-bit ('base': conda)",
   "language": "python",
   "name": "python3"
  },
  "language_info": {
   "codemirror_mode": {
    "name": "ipython",
    "version": 3
   },
   "file_extension": ".py",
   "mimetype": "text/x-python",
   "name": "python",
   "nbconvert_exporter": "python",
   "pygments_lexer": "ipython3",
   "version": "3.9.5"
  },
  "orig_nbformat": 4
 },
 "nbformat": 4,
 "nbformat_minor": 2
}
